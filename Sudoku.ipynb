{
 "cells": [
  {
   "cell_type": "code",
   "execution_count": 1,
   "id": "bc805684",
   "metadata": {},
   "outputs": [],
   "source": [
    "import numpy as np"
   ]
  },
  {
   "cell_type": "code",
   "execution_count": 2,
   "id": "6554b3bf",
   "metadata": {},
   "outputs": [],
   "source": [
    "sud =  [[5,3,0,0,7,0,0,0,0],\n",
    "        [6,0,0,1,9,5,0,0,0],\n",
    "        [0,9,8,0,0,0,0,6,0],\n",
    "        [8,0,0,0,6,0,0,0,3],\n",
    "        [4,0,0,8,0,3,0,0,1],\n",
    "        [7,0,0,0,2,0,0,0,6],\n",
    "        [0,6,0,0,0,0,2,8,0],\n",
    "        [0,0,0,0,1,9,0,0,5],\n",
    "        [0,0,0,0,0,0,0,0,0]]"
   ]
  },
  {
   "cell_type": "code",
   "execution_count": 3,
   "id": "481e9638",
   "metadata": {},
   "outputs": [],
   "source": [
    "def constraints(row,column,num):\n",
    "    global sud\n",
    "    for i in range(0,9):\n",
    "        if sud[row][i]==num:\n",
    "                return False\n",
    "    for i in range(0,9):\n",
    "        if sud[i][column]==num:\n",
    "                return False\n",
    "                \n",
    "        \n",
    "    x=((column)//3)*3\n",
    "    y=((row)//3)*3\n",
    "    for i in range(0,3):\n",
    "        for j in range(0,3):\n",
    "            if sud[y+i][x+j]==num:\n",
    "                return False\n",
    "        \n",
    "    return True"
   ]
  },
  {
   "cell_type": "code",
   "execution_count": 4,
   "id": "8697f9be",
   "metadata": {},
   "outputs": [
    {
     "name": "stdout",
     "output_type": "stream",
     "text": [
      "[[5 3 4 6 7 8 1 9 2]\n",
      " [6 7 2 1 9 5 3 4 8]\n",
      " [1 9 8 3 4 2 5 6 7]\n",
      " [8 5 9 7 6 1 4 2 3]\n",
      " [4 2 6 8 5 3 9 7 1]\n",
      " [7 1 3 9 2 4 8 5 6]\n",
      " [9 6 1 5 3 7 2 8 4]\n",
      " [2 8 7 4 1 9 6 3 5]\n",
      " [3 4 5 2 8 6 7 1 9]]\n",
      "More possible solutions press \"Enter\" \n",
      "[[5 3 4 6 7 8 9 1 2]\n",
      " [6 7 2 1 9 5 3 4 8]\n",
      " [1 9 8 3 4 2 5 6 7]\n",
      " [8 5 9 7 6 1 4 2 3]\n",
      " [4 2 6 8 5 3 7 9 1]\n",
      " [7 1 3 9 2 4 8 5 6]\n",
      " [9 6 1 5 3 7 2 8 4]\n",
      " [2 8 7 4 1 9 6 3 5]\n",
      " [3 4 5 2 8 6 1 7 9]]\n",
      "More possible solutions press \"Enter\" \n"
     ]
    }
   ],
   "source": [
    "def solve():\n",
    "    global sud\n",
    "    for row in range(0,9):\n",
    "        for column in range(0,9):\n",
    "            if sud[row][column]==0:\n",
    "                for num in range(1,10):\n",
    "                    if constraints(row,column,num):\n",
    "                        sud[row][column]=num\n",
    "                        solve() #keep solving with next value of num\n",
    "                        sud[row][column]=0  \n",
    "                return\n",
    "    print(np.matrix(sud))\n",
    "    input('More possible solutions press \"Enter\" ')\n",
    "solve()"
   ]
  }
 ],
 "metadata": {
  "kernelspec": {
   "display_name": "Python 3 (ipykernel)",
   "language": "python",
   "name": "python3"
  },
  "language_info": {
   "codemirror_mode": {
    "name": "ipython",
    "version": 3
   },
   "file_extension": ".py",
   "mimetype": "text/x-python",
   "name": "python",
   "nbconvert_exporter": "python",
   "pygments_lexer": "ipython3",
   "version": "3.9.12"
  }
 },
 "nbformat": 4,
 "nbformat_minor": 5
}
